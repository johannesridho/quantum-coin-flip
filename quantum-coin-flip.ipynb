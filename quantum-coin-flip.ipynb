{
 "cells": [
  {
   "cell_type": "code",
   "execution_count": null,
   "metadata": {},
   "outputs": [],
   "source": [
    "%matplotlib inline\n",
    "# Importing standard Qiskit libraries and configuring account\n",
    "from qiskit import QuantumCircuit, execute, Aer, IBMQ\n",
    "from qiskit.compiler import transpile, assemble\n",
    "from qiskit.tools.jupyter import *\n",
    "from qiskit.visualization import *\n",
    "# Loading your IBM Q account(s)\n",
    "provider = IBMQ.load_account()"
   ]
  },
  {
   "cell_type": "code",
   "execution_count": null,
   "metadata": {},
   "outputs": [],
   "source": [
    "# create a circuit with 1 qubit to process information, and 1 classical bit to store the result\n",
    "circuit = QuantumCircuit(1, 1)\n",
    "circuit.draw()"
   ]
  },
  {
   "cell_type": "code",
   "execution_count": null,
   "metadata": {},
   "outputs": [],
   "source": [
    "# apply a Hadamard gate to transform the qubit into a superposition state\n",
    "circuit.h(0)\n",
    "\n",
    "# apply a measurement to retrieve the definite state of a qubit in superposition, and store it in the classical bit\n",
    "circuit.measure([0], [0])\n",
    "\n",
    "circuit.draw()"
   ]
  },
  {
   "cell_type": "code",
   "execution_count": null,
   "metadata": {},
   "outputs": [],
   "source": [
    "# run in a simulator\n",
    "backend = Aer.get_backend('qasm_simulator')\n",
    "\n",
    "# use this to run in a real quantum computer provided by IBM\n",
    "# you can see the options in IBM Quantum Experience dashboard, here I use ibmq_london\n",
    "# backend = provider.get_backend('ibmq_london')"
   ]
  },
  {
   "cell_type": "code",
   "execution_count": null,
   "metadata": {},
   "outputs": [],
   "source": [
    "# execute the job in 1 shot, run it multiple times to get a different results\n",
    "job = execute(circuit, backend, shots=1)\n",
    "counts = job.result().get_counts(circuit)\n",
    "\n",
    "print(\"Result:\")\n",
    "\n",
    "if '0' in counts.keys():\n",
    "    print(\"tail\")\n",
    "else:\n",
    "    print(\"head\")"
   ]
  },
  {
   "cell_type": "code",
   "execution_count": null,
   "metadata": {},
   "outputs": [],
   "source": [
    "# we can also run it in 100 shots, this will show us the counts of '0' and '1' appeared in 100 shots/experiments\n",
    "job = execute(circuit, backend, shots=100)\n",
    "counts = job.result().get_counts(circuit)\n",
    "\n",
    "print(\"Result:\", counts)"
   ]
  },
  {
   "cell_type": "code",
   "execution_count": null,
   "metadata": {},
   "outputs": [],
   "source": [
    "plot_histogram(counts)"
   ]
  }
 ],
 "metadata": {
  "kernelspec": {
   "display_name": "Python 3",
   "language": "python",
   "name": "python3"
  },
  "language_info": {
   "codemirror_mode": {
    "name": "ipython",
    "version": 3
   },
   "file_extension": ".py",
   "mimetype": "text/x-python",
   "name": "python",
   "nbconvert_exporter": "python",
   "pygments_lexer": "ipython3",
   "version": "3.6.8"
  }
 },
 "nbformat": 4,
 "nbformat_minor": 2
}
